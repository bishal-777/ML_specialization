{
 "cells": [
  {
   "cell_type": "markdown",
   "id": "c52b0956",
   "metadata": {},
   "source": [
    "## Evaluating model"
   ]
  },
  {
   "cell_type": "markdown",
   "id": "56d330b7",
   "metadata": {},
   "source": [
    "split datset into 70% as training set and 30% as test set to check how model generalizes to new data."
   ]
  },
  {
   "cell_type": "markdown",
   "id": "da492142",
   "metadata": {},
   "source": [
    "![test_regression](ss/1.1.png)"
   ]
  },
  {
   "cell_type": "markdown",
   "id": "abbec373",
   "metadata": {},
   "source": [
    "![](ss/1.2.png)"
   ]
  },
  {
   "cell_type": "markdown",
   "id": "9e974589",
   "metadata": {},
   "source": [
    "![](ss/1.3.png)"
   ]
  },
  {
   "cell_type": "markdown",
   "id": "a46e031e",
   "metadata": {},
   "source": [
    "## Model selection"
   ]
  },
  {
   "cell_type": "markdown",
   "id": "b63d9ba0",
   "metadata": {},
   "source": [
    "* choose the mode whose J_test is lowest."
   ]
  },
  {
   "cell_type": "markdown",
   "id": "1dd65dc3",
   "metadata": {},
   "source": [
    "![](ss/1.4.png)"
   ]
  },
  {
   "cell_type": "markdown",
   "id": "ab5201c4",
   "metadata": {},
   "source": [
    "![](ss/1.5.png)"
   ]
  },
  {
   "cell_type": "markdown",
   "id": "4fa4388f",
   "metadata": {},
   "source": [
    "* Choose the model which has the least cross validation error"
   ]
  },
  {
   "cell_type": "code",
   "execution_count": null,
   "id": "5498d384",
   "metadata": {},
   "outputs": [],
   "source": []
  }
 ],
 "metadata": {
  "kernelspec": {
   "display_name": "Python (tf)",
   "language": "python",
   "name": "tf"
  },
  "language_info": {
   "codemirror_mode": {
    "name": "ipython",
    "version": 3
   },
   "file_extension": ".py",
   "mimetype": "text/x-python",
   "name": "python",
   "nbconvert_exporter": "python",
   "pygments_lexer": "ipython3",
   "version": "3.12.3"
  }
 },
 "nbformat": 4,
 "nbformat_minor": 5
}
