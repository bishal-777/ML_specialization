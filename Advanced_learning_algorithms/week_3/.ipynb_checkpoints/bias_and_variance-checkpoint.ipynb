{
 "cells": [
  {
   "cell_type": "markdown",
   "id": "d0d45305",
   "metadata": {},
   "source": [
    "![](ss/2.1.png)"
   ]
  },
  {
   "cell_type": "markdown",
   "id": "02b92536",
   "metadata": {},
   "source": [
    "![](ss/2.2.png)"
   ]
  },
  {
   "cell_type": "markdown",
   "id": "60e12b5a",
   "metadata": {},
   "source": [
    "![](ss/2.3.png)"
   ]
  },
  {
   "cell_type": "markdown",
   "id": "f866e748",
   "metadata": {},
   "source": [
    "![](ss/2.4.png)"
   ]
  },
  {
   "cell_type": "markdown",
   "id": "5bb54670",
   "metadata": {},
   "source": [
    "![](ss/2.5.png)"
   ]
  },
  {
   "cell_type": "markdown",
   "id": "b7def88f",
   "metadata": {},
   "source": [
    "![](ss/2.6.png)"
   ]
  },
  {
   "cell_type": "markdown",
   "id": "7f4379a3",
   "metadata": {},
   "source": [
    "![](ss/2.7.png)"
   ]
  },
  {
   "cell_type": "markdown",
   "id": "d8b12ba3",
   "metadata": {},
   "source": [
    "![](ss/2.8.png)"
   ]
  },
  {
   "cell_type": "code",
   "execution_count": null,
   "id": "0a2d99b4",
   "metadata": {},
   "outputs": [],
   "source": []
  }
 ],
 "metadata": {
  "kernelspec": {
   "display_name": "Python 3 (ipykernel)",
   "language": "python",
   "name": "python3"
  },
  "language_info": {
   "codemirror_mode": {
    "name": "ipython",
    "version": 3
   },
   "file_extension": ".py",
   "mimetype": "text/x-python",
   "name": "python",
   "nbconvert_exporter": "python",
   "pygments_lexer": "ipython3",
   "version": "3.12.3"
  }
 },
 "nbformat": 4,
 "nbformat_minor": 5
}
