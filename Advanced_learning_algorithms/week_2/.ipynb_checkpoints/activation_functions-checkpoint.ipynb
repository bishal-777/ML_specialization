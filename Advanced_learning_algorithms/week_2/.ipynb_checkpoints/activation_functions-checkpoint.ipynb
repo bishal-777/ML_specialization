{
 "cells": [
  {
   "cell_type": "markdown",
   "id": "10a018dc",
   "metadata": {},
   "source": [
    "# Choosing Activation function"
   ]
  },
  {
   "cell_type": "markdown",
   "id": "9808e52f",
   "metadata": {},
   "source": [
    "## For output layer:\n",
    "* For Binary classification\n",
    "    use sigmoid activation function\n",
    "* For regression,y=+ve or -ve\n",
    "    use linear activation function\n",
    "* For regrssion ,y>=0\n",
    "    use RELU(rectified linear unit) activation function"
   ]
  },
  {
   "cell_type": "markdown",
   "id": "f17493f5",
   "metadata": {},
   "source": [
    "## For hidden layer:\n",
    "* primary choice=RELU\n",
    "\n",
    "RELU is faster than sigmoid becuse it has less steep places which makes\n",
    "easier to run gradient descent"
   ]
  },
  {
   "cell_type": "code",
   "execution_count": 10,
   "id": "76f328ea",
   "metadata": {},
   "outputs": [],
   "source": [
    "import tensorflow as tf\n",
    "from tensorflow.keras import Sequential\n",
    "from tensorflow.keras.layers import Dense"
   ]
  },
  {
   "cell_type": "code",
   "execution_count": 11,
   "id": "26eb66ac",
   "metadata": {},
   "outputs": [],
   "source": [
    "model=Sequential([\n",
    "    Dense(units=25,activation='relu'), #layer1(hidden layer)\n",
    "    Dense(units=15,activation='relu'), #layer2(hidden layer)\n",
    "    Dense(units=1,activation='sigmoid') #layer3(output layer)\n",
    "])"
   ]
  },
  {
   "cell_type": "code",
   "execution_count": null,
   "id": "57ab8d2c",
   "metadata": {},
   "outputs": [],
   "source": []
  }
 ],
 "metadata": {
  "kernelspec": {
   "display_name": "Python (tf)",
   "language": "python",
   "name": "tf"
  },
  "language_info": {
   "codemirror_mode": {
    "name": "ipython",
    "version": 3
   },
   "file_extension": ".py",
   "mimetype": "text/x-python",
   "name": "python",
   "nbconvert_exporter": "python",
   "pygments_lexer": "ipython3",
   "version": "3.12.3"
  }
 },
 "nbformat": 4,
 "nbformat_minor": 5
}
