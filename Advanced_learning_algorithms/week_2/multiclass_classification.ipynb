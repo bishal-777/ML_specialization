{
 "cells": [
  {
   "cell_type": "markdown",
   "id": "79c11d05",
   "metadata": {},
   "source": [
    "# Multiclass classification using softmax activation in output layer"
   ]
  },
  {
   "cell_type": "code",
   "execution_count": 30,
   "id": "157868d0",
   "metadata": {},
   "outputs": [],
   "source": [
    "import tensorflow as tf\n",
    "from tensorflow.keras import Sequential\n",
    "from tensorflow.keras.layers import Dense"
   ]
  },
  {
   "cell_type": "markdown",
   "id": "58d8f38a",
   "metadata": {},
   "source": [
    "## Model"
   ]
  },
  {
   "cell_type": "code",
   "execution_count": 36,
   "id": "bae67110",
   "metadata": {},
   "outputs": [],
   "source": [
    "model=Sequential([\n",
    "    Dense(units=25,activation='sigmoid'),\n",
    "    Dense(units=15,activation='sigmoid'),\n",
    "    Dense(units=1,activation='linear')\n",
    "                ])"
   ]
  },
  {
   "cell_type": "markdown",
   "id": "a0fad7fb",
   "metadata": {},
   "source": [
    "## loss function"
   ]
  },
  {
   "cell_type": "code",
   "execution_count": 32,
   "id": "b1807317",
   "metadata": {},
   "outputs": [],
   "source": [
    "from tensorflow.keras.losses import BinaryCrossentropy"
   ]
  },
  {
   "cell_type": "code",
   "execution_count": 33,
   "id": "71943331",
   "metadata": {},
   "outputs": [],
   "source": [
    "model.compile(loss=BinaryCrossentropy(from_logits=True))"
   ]
  },
  {
   "cell_type": "markdown",
   "id": "a4383778",
   "metadata": {},
   "source": [
    "## fit the data to the model(Gradient Descent)"
   ]
  },
  {
   "cell_type": "code",
   "execution_count": 34,
   "id": "91055244",
   "metadata": {},
   "outputs": [
    {
     "ename": "NameError",
     "evalue": "name 'X' is not defined",
     "output_type": "error",
     "traceback": [
      "\u001b[0;31m---------------------------------------------------------------------------\u001b[0m",
      "\u001b[0;31mNameError\u001b[0m                                 Traceback (most recent call last)",
      "Cell \u001b[0;32mIn[34], line 1\u001b[0m\n\u001b[0;32m----> 1\u001b[0m model\u001b[38;5;241m.\u001b[39mfit(\u001b[43mX\u001b[49m,Y,epochs\u001b[38;5;241m=\u001b[39m\u001b[38;5;241m100\u001b[39m)\n\u001b[1;32m      2\u001b[0m logit\u001b[38;5;241m=\u001b[39mmodel(X)\n",
      "\u001b[0;31mNameError\u001b[0m: name 'X' is not defined"
     ]
    }
   ],
   "source": [
    "model.fit(X,Y,epochs=100)\n",
    "logit=model(X)"
   ]
  },
  {
   "cell_type": "markdown",
   "id": "cd5f360e",
   "metadata": {},
   "source": [
    "## Predict"
   ]
  },
  {
   "cell_type": "code",
   "execution_count": 35,
   "id": "0a424c1a",
   "metadata": {},
   "outputs": [
    {
     "ename": "NameError",
     "evalue": "name 'logit' is not defined",
     "output_type": "error",
     "traceback": [
      "\u001b[0;31m---------------------------------------------------------------------------\u001b[0m",
      "\u001b[0;31mNameError\u001b[0m                                 Traceback (most recent call last)",
      "Cell \u001b[0;32mIn[35], line 1\u001b[0m\n\u001b[0;32m----> 1\u001b[0m f_x\u001b[38;5;241m=\u001b[39mtf\u001b[38;5;241m.\u001b[39mnn\u001b[38;5;241m.\u001b[39msigmoid(\u001b[43mlogit\u001b[49m)\n",
      "\u001b[0;31mNameError\u001b[0m: name 'logit' is not defined"
     ]
    }
   ],
   "source": [
    "f_x=tf.nn.sigmoid(logit)"
   ]
  },
  {
   "cell_type": "code",
   "execution_count": null,
   "id": "5e39f93b",
   "metadata": {},
   "outputs": [],
   "source": []
  }
 ],
 "metadata": {
  "kernelspec": {
   "display_name": "Python (tf)",
   "language": "python",
   "name": "tf"
  },
  "language_info": {
   "codemirror_mode": {
    "name": "ipython",
    "version": 3
   },
   "file_extension": ".py",
   "mimetype": "text/x-python",
   "name": "python",
   "nbconvert_exporter": "python",
   "pygments_lexer": "ipython3",
   "version": "3.12.3"
  }
 },
 "nbformat": 4,
 "nbformat_minor": 5
}
