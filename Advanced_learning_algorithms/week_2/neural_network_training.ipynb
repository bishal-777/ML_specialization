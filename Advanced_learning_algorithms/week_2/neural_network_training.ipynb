{
 "cells": [
  {
   "cell_type": "markdown",
   "id": "0e320813",
   "metadata": {},
   "source": [
    "# Steps to create a basic neural network\n",
    "## (Its just a note,not importing dataset to fit into model)"
   ]
  },
  {
   "cell_type": "markdown",
   "id": "68d926d0",
   "metadata": {},
   "source": [
    "## 1. Create the model"
   ]
  },
  {
   "cell_type": "code",
   "execution_count": 4,
   "id": "d4e92bff",
   "metadata": {},
   "outputs": [],
   "source": [
    "import tensorflow as tf\n",
    "from tensorflow.keras import Sequential\n",
    "from tensorflow.keras.layers import Dense"
   ]
  },
  {
   "cell_type": "markdown",
   "id": "43406cf6",
   "metadata": {},
   "source": [
    "### created a model for the neural network with 3 layers"
   ]
  },
  {
   "cell_type": "code",
   "execution_count": 5,
   "id": "2afddde0",
   "metadata": {},
   "outputs": [],
   "source": [
    "model=Sequential([\n",
    "    Dense(units=25,activation='sigmoid'),\n",
    "    Dense(units=15,activation='sigmoid'),\n",
    "    Dense(units=1,activation='sigmoid'),\n",
    "])"
   ]
  },
  {
   "cell_type": "markdown",
   "id": "b53c523a",
   "metadata": {},
   "source": [
    "## 2. Loss and cost function"
   ]
  },
  {
   "cell_type": "code",
   "execution_count": 34,
   "id": "9cab1709",
   "metadata": {},
   "outputs": [],
   "source": [
    "from tensorflow.keras.losses import BinaryCrossentropy\n",
    "from tensorflow.keras.losses import MeanSquaredError"
   ]
  },
  {
   "cell_type": "code",
   "execution_count": 35,
   "id": "8e03f405",
   "metadata": {},
   "outputs": [],
   "source": [
    "#for classification\n",
    "model.compile(loss=BinaryCrossentropy())\n",
    "#for regression\n",
    "model.compile(loss=MeanSquaredError())"
   ]
  },
  {
   "cell_type": "markdown",
   "id": "bffc4068",
   "metadata": {},
   "source": [
    "## 3. Gradient descent"
   ]
  },
  {
   "cell_type": "code",
   "execution_count": 13,
   "id": "23f75556",
   "metadata": {},
   "outputs": [
    {
     "ename": "NameError",
     "evalue": "name 'X' is not defined",
     "output_type": "error",
     "traceback": [
      "\u001b[0;31m---------------------------------------------------------------------------\u001b[0m",
      "\u001b[0;31mNameError\u001b[0m                                 Traceback (most recent call last)",
      "Cell \u001b[0;32mIn[13], line 1\u001b[0m\n\u001b[0;32m----> 1\u001b[0m model\u001b[38;5;241m.\u001b[39mfit(\u001b[43mX\u001b[49m,y,epochs\u001b[38;5;241m=\u001b[39m\u001b[38;5;241m100\u001b[39m)\n",
      "\u001b[0;31mNameError\u001b[0m: name 'X' is not defined"
     ]
    }
   ],
   "source": [
    "# for classification\n",
    "model.fit(X,y,epochs=100)# not imported dataset\n"
   ]
  }
 ],
 "metadata": {
  "kernelspec": {
   "display_name": "Python (tf)",
   "language": "python",
   "name": "tf"
  },
  "language_info": {
   "codemirror_mode": {
    "name": "ipython",
    "version": 3
   },
   "file_extension": ".py",
   "mimetype": "text/x-python",
   "name": "python",
   "nbconvert_exporter": "python",
   "pygments_lexer": "ipython3",
   "version": "3.12.3"
  }
 },
 "nbformat": 4,
 "nbformat_minor": 5
}
